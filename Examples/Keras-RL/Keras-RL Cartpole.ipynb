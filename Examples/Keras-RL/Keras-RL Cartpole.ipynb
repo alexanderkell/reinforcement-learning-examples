{
 "cells": [
  {
   "cell_type": "code",
   "execution_count": 1,
   "metadata": {},
   "outputs": [
    {
     "name": "stderr",
     "output_type": "stream",
     "text": [
      "Using TensorFlow backend.\n"
     ]
    }
   ],
   "source": [
    "import numpy as np\n",
    "import gym\n",
    "\n",
    "from keras.models import Sequential\n",
    "from keras.layers import Dense, Activation, Flatten\n",
    "from keras.optimizers import Adam\n",
    "\n",
    "from rl.agents.dqn import DQNAgent\n",
    "from rl.policy import EpsGreedyQPolicy\n",
    "from rl.memory import SequentialMemory"
   ]
  },
  {
   "cell_type": "markdown",
   "metadata": {},
   "source": [
    "Initialize CartPole environment"
   ]
  },
  {
   "cell_type": "code",
   "execution_count": 2,
   "metadata": {},
   "outputs": [
    {
     "name": "stderr",
     "output_type": "stream",
     "text": [
      "/Users/b1017579/.local/share/virtualenvs/12._Reinforcement_Learning-DLBnGMow/lib/python3.6/site-packages/gym/envs/registration.py:14: PkgResourcesDeprecationWarning: Parameters to load are deprecated.  Call .resolve and .require separately.\n",
      "  result = entry_point.load(False)\n"
     ]
    }
   ],
   "source": [
    "ENV_NAME = 'CartPole-v0'\n",
    "\n",
    "# Get the environment and extract the number of actions available in the Cartpole problem\n",
    "env = gym.make(ENV_NAME)\n",
    "np.random.seed(123)\n",
    "env.seed(123)\n",
    "nb_actions = env.action_space.n"
   ]
  },
  {
   "cell_type": "code",
   "execution_count": 3,
   "metadata": {},
   "outputs": [
    {
     "name": "stdout",
     "output_type": "stream",
     "text": [
      "Discrete(2)\n"
     ]
    }
   ],
   "source": [
    "print(env.action_space)"
   ]
  },
  {
   "cell_type": "markdown",
   "metadata": {},
   "source": [
    "Build a single hidden layer neural network model."
   ]
  },
  {
   "cell_type": "code",
   "execution_count": 4,
   "metadata": {},
   "outputs": [
    {
     "name": "stdout",
     "output_type": "stream",
     "text": [
      "_________________________________________________________________\n",
      "Layer (type)                 Output Shape              Param #   \n",
      "=================================================================\n",
      "flatten_1 (Flatten)          (None, 4)                 0         \n",
      "_________________________________________________________________\n",
      "dense_1 (Dense)              (None, 16)                80        \n",
      "_________________________________________________________________\n",
      "activation_1 (Activation)    (None, 16)                0         \n",
      "_________________________________________________________________\n",
      "dense_2 (Dense)              (None, 2)                 34        \n",
      "_________________________________________________________________\n",
      "activation_2 (Activation)    (None, 2)                 0         \n",
      "=================================================================\n",
      "Total params: 114\n",
      "Trainable params: 114\n",
      "Non-trainable params: 0\n",
      "_________________________________________________________________\n",
      "None\n"
     ]
    }
   ],
   "source": [
    "model = Sequential()\n",
    "model.add(Flatten(input_shape=(1,) + env.observation_space.shape))\n",
    "model.add(Dense(16))\n",
    "model.add(Activation('relu'))\n",
    "model.add(Dense(nb_actions))\n",
    "model.add(Activation('linear'))\n",
    "print(model.summary())"
   ]
  },
  {
   "cell_type": "markdown",
   "metadata": {},
   "source": [
    "Configure and compile the agent. Set policy to Epsilon Greedy. Set memory as sequential memory to store results of previous actions."
   ]
  },
  {
   "cell_type": "code",
   "execution_count": 5,
   "metadata": {},
   "outputs": [],
   "source": [
    "policy = EpsGreedyQPolicy()\n",
    "memory = SequentialMemory(limit=50000, window_length=1)\n",
    "\n",
    "dqn = DQNAgent(model=model, nb_actions=nb_actions, memory=memory, nb_steps_warmup=10, \n",
    "               target_model_update=1e-2, policy=policy)\n",
    "\n",
    "dqn.compile(Adam(lr=1e-3), metrics=['mae'])"
   ]
  },
  {
   "cell_type": "code",
   "execution_count": 6,
   "metadata": {},
   "outputs": [
    {
     "name": "stdout",
     "output_type": "stream",
     "text": [
      "Training for 5000 steps ...\n"
     ]
    },
    {
     "name": "stderr",
     "output_type": "stream",
     "text": [
      "/Users/b1017579/.local/share/virtualenvs/12._Reinforcement_Learning-DLBnGMow/lib/python3.6/site-packages/rl/memory.py:39: UserWarning: Not enough entries to sample without replacement. Consider increasing your warm-up phase to avoid oversampling!\n",
      "  warnings.warn('Not enough entries to sample without replacement. Consider increasing your warm-up phase to avoid oversampling!')\n"
     ]
    },
    {
     "name": "stdout",
     "output_type": "stream",
     "text": [
      "   79/5000: episode: 1, duration: 0.810s, episode steps: 79, steps per second: 98, episode reward: 79.000, mean reward: 1.000 [1.000, 1.000], mean action: 0.519 [0.000, 1.000], mean observation: 0.060 [-0.402, 0.722], loss: 0.428581, mean_absolute_error: 0.496816, mean_q: 0.051927\n",
      "  113/5000: episode: 2, duration: 0.133s, episode steps: 34, steps per second: 256, episode reward: 34.000, mean reward: 1.000 [1.000, 1.000], mean action: 0.529 [0.000, 1.000], mean observation: 0.151 [-0.159, 0.753], loss: 0.352513, mean_absolute_error: 0.446764, mean_q: 0.192479\n",
      "  163/5000: episode: 3, duration: 0.172s, episode steps: 50, steps per second: 290, episode reward: 50.000, mean reward: 1.000 [1.000, 1.000], mean action: 0.520 [0.000, 1.000], mean observation: 0.082 [-0.295, 0.778], loss: 0.307210, mean_absolute_error: 0.458905, mean_q: 0.320537\n",
      "  196/5000: episode: 4, duration: 0.091s, episode steps: 33, steps per second: 363, episode reward: 33.000, mean reward: 1.000 [1.000, 1.000], mean action: 0.515 [0.000, 1.000], mean observation: 0.081 [-0.231, 0.809], loss: 0.272555, mean_absolute_error: 0.496089, mean_q: 0.472915\n",
      "  242/5000: episode: 5, duration: 0.228s, episode steps: 46, steps per second: 202, episode reward: 46.000, mean reward: 1.000 [1.000, 1.000], mean action: 0.500 [0.000, 1.000], mean observation: 0.044 [-0.542, 0.812], loss: 0.239186, mean_absolute_error: 0.545649, mean_q: 0.637457\n",
      "  279/5000: episode: 6, duration: 0.158s, episode steps: 37, steps per second: 234, episode reward: 37.000, mean reward: 1.000 [1.000, 1.000], mean action: 0.514 [0.000, 1.000], mean observation: 0.087 [-0.269, 0.774], loss: 0.197393, mean_absolute_error: 0.609112, mean_q: 0.843941\n",
      "  317/5000: episode: 7, duration: 0.122s, episode steps: 38, steps per second: 311, episode reward: 38.000, mean reward: 1.000 [1.000, 1.000], mean action: 0.500 [0.000, 1.000], mean observation: 0.064 [-0.353, 0.908], loss: 0.157811, mean_absolute_error: 0.683950, mean_q: 1.063473\n",
      "  347/5000: episode: 8, duration: 0.103s, episode steps: 30, steps per second: 290, episode reward: 30.000, mean reward: 1.000 [1.000, 1.000], mean action: 0.500 [0.000, 1.000], mean observation: 0.082 [-0.412, 0.963], loss: 0.130500, mean_absolute_error: 0.764604, mean_q: 1.283180\n",
      "  369/5000: episode: 9, duration: 0.063s, episode steps: 22, steps per second: 352, episode reward: 22.000, mean reward: 1.000 [1.000, 1.000], mean action: 0.500 [0.000, 1.000], mean observation: 0.110 [-0.353, 0.912], loss: 0.107314, mean_absolute_error: 0.830099, mean_q: 1.469104\n",
      "  388/5000: episode: 10, duration: 0.052s, episode steps: 19, steps per second: 364, episode reward: 19.000, mean reward: 1.000 [1.000, 1.000], mean action: 0.474 [0.000, 1.000], mean observation: 0.093 [-0.413, 0.974], loss: 0.104275, mean_absolute_error: 0.910960, mean_q: 1.644573\n",
      "  411/5000: episode: 11, duration: 0.082s, episode steps: 23, steps per second: 281, episode reward: 23.000, mean reward: 1.000 [1.000, 1.000], mean action: 0.478 [0.000, 1.000], mean observation: 0.077 [-0.427, 0.875], loss: 0.086665, mean_absolute_error: 0.969270, mean_q: 1.816962\n",
      "  432/5000: episode: 12, duration: 0.065s, episode steps: 21, steps per second: 325, episode reward: 21.000, mean reward: 1.000 [1.000, 1.000], mean action: 0.476 [0.000, 1.000], mean observation: 0.089 [-0.369, 1.041], loss: 0.096141, mean_absolute_error: 1.062649, mean_q: 1.995838\n",
      "  456/5000: episode: 13, duration: 0.075s, episode steps: 24, steps per second: 322, episode reward: 24.000, mean reward: 1.000 [1.000, 1.000], mean action: 0.458 [0.000, 1.000], mean observation: 0.087 [-0.543, 1.099], loss: 0.089648, mean_absolute_error: 1.137142, mean_q: 2.164495\n",
      "  481/5000: episode: 14, duration: 0.086s, episode steps: 25, steps per second: 290, episode reward: 25.000, mean reward: 1.000 [1.000, 1.000], mean action: 0.480 [0.000, 1.000], mean observation: 0.079 [-0.395, 1.082], loss: 0.118788, mean_absolute_error: 1.253702, mean_q: 2.384178\n",
      "  500/5000: episode: 15, duration: 0.053s, episode steps: 19, steps per second: 356, episode reward: 19.000, mean reward: 1.000 [1.000, 1.000], mean action: 0.474 [0.000, 1.000], mean observation: 0.068 [-0.606, 1.220], loss: 0.130187, mean_absolute_error: 1.339769, mean_q: 2.542996\n",
      "  512/5000: episode: 16, duration: 0.034s, episode steps: 12, steps per second: 351, episode reward: 12.000, mean reward: 1.000 [1.000, 1.000], mean action: 0.417 [0.000, 1.000], mean observation: 0.109 [-0.590, 1.193], loss: 0.120017, mean_absolute_error: 1.364876, mean_q: 2.641619\n",
      "  530/5000: episode: 17, duration: 0.059s, episode steps: 18, steps per second: 306, episode reward: 18.000, mean reward: 1.000 [1.000, 1.000], mean action: 0.444 [0.000, 1.000], mean observation: 0.071 [-0.582, 1.185], loss: 0.122423, mean_absolute_error: 1.447615, mean_q: 2.805056\n",
      "  553/5000: episode: 18, duration: 0.068s, episode steps: 23, steps per second: 336, episode reward: 23.000, mean reward: 1.000 [1.000, 1.000], mean action: 0.435 [0.000, 1.000], mean observation: 0.055 [-0.610, 1.221], loss: 0.145624, mean_absolute_error: 1.532915, mean_q: 2.994458\n",
      "  575/5000: episode: 19, duration: 0.058s, episode steps: 22, steps per second: 378, episode reward: 22.000, mean reward: 1.000 [1.000, 1.000], mean action: 0.455 [0.000, 1.000], mean observation: 0.082 [-0.759, 1.242], loss: 0.166838, mean_absolute_error: 1.631508, mean_q: 3.161886\n",
      "  587/5000: episode: 20, duration: 0.032s, episode steps: 12, steps per second: 376, episode reward: 12.000, mean reward: 1.000 [1.000, 1.000], mean action: 0.333 [0.000, 1.000], mean observation: 0.117 [-0.788, 1.482], loss: 0.173272, mean_absolute_error: 1.720390, mean_q: 3.351777\n",
      "  597/5000: episode: 21, duration: 0.030s, episode steps: 10, steps per second: 337, episode reward: 10.000, mean reward: 1.000 [1.000, 1.000], mean action: 0.300 [0.000, 1.000], mean observation: 0.146 [-0.771, 1.498], loss: 0.256628, mean_absolute_error: 1.804425, mean_q: 3.468227\n",
      "  609/5000: episode: 22, duration: 0.047s, episode steps: 12, steps per second: 257, episode reward: 12.000, mean reward: 1.000 [1.000, 1.000], mean action: 0.333 [0.000, 1.000], mean observation: 0.113 [-0.805, 1.493], loss: 0.208183, mean_absolute_error: 1.807137, mean_q: 3.533494\n",
      "  619/5000: episode: 23, duration: 0.035s, episode steps: 10, steps per second: 287, episode reward: 10.000, mean reward: 1.000 [1.000, 1.000], mean action: 0.300 [0.000, 1.000], mean observation: 0.135 [-0.756, 1.495], loss: 0.228168, mean_absolute_error: 1.900934, mean_q: 3.657549\n",
      "  630/5000: episode: 24, duration: 0.030s, episode steps: 11, steps per second: 366, episode reward: 11.000, mean reward: 1.000 [1.000, 1.000], mean action: 0.364 [0.000, 1.000], mean observation: 0.126 [-0.967, 1.613], loss: 0.229460, mean_absolute_error: 1.944205, mean_q: 3.746826\n",
      "  644/5000: episode: 25, duration: 0.038s, episode steps: 14, steps per second: 366, episode reward: 14.000, mean reward: 1.000 [1.000, 1.000], mean action: 0.357 [0.000, 1.000], mean observation: 0.077 [-0.807, 1.441], loss: 0.302457, mean_absolute_error: 1.990544, mean_q: 3.844026\n",
      "  653/5000: episode: 26, duration: 0.025s, episode steps: 9, steps per second: 360, episode reward: 9.000, mean reward: 1.000 [1.000, 1.000], mean action: 0.222 [0.000, 1.000], mean observation: 0.129 [-0.969, 1.736], loss: 0.338066, mean_absolute_error: 2.085588, mean_q: 4.006790\n",
      "  666/5000: episode: 27, duration: 0.041s, episode steps: 13, steps per second: 317, episode reward: 13.000, mean reward: 1.000 [1.000, 1.000], mean action: 0.385 [0.000, 1.000], mean observation: 0.082 [-0.991, 1.556], loss: 0.335534, mean_absolute_error: 2.147131, mean_q: 4.070678\n",
      "  679/5000: episode: 28, duration: 0.074s, episode steps: 13, steps per second: 175, episode reward: 13.000, mean reward: 1.000 [1.000, 1.000], mean action: 0.385 [0.000, 1.000], mean observation: 0.092 [-0.840, 1.487], loss: 0.307521, mean_absolute_error: 2.167519, mean_q: 4.166689\n",
      "  691/5000: episode: 29, duration: 0.052s, episode steps: 12, steps per second: 231, episode reward: 12.000, mean reward: 1.000 [1.000, 1.000], mean action: 0.250 [0.000, 1.000], mean observation: 0.139 [-1.135, 2.030], loss: 0.366283, mean_absolute_error: 2.227162, mean_q: 4.272399\n",
      "  702/5000: episode: 30, duration: 0.053s, episode steps: 11, steps per second: 206, episode reward: 11.000, mean reward: 1.000 [1.000, 1.000], mean action: 0.273 [0.000, 1.000], mean observation: 0.127 [-0.942, 1.734], loss: 0.309171, mean_absolute_error: 2.282081, mean_q: 4.426487\n",
      "  714/5000: episode: 31, duration: 0.064s, episode steps: 12, steps per second: 187, episode reward: 12.000, mean reward: 1.000 [1.000, 1.000], mean action: 0.250 [0.000, 1.000], mean observation: 0.102 [-1.401, 2.153], loss: 0.437878, mean_absolute_error: 2.361925, mean_q: 4.589402\n"
     ]
    },
    {
     "name": "stdout",
     "output_type": "stream",
     "text": [
      "  723/5000: episode: 32, duration: 0.042s, episode steps: 9, steps per second: 214, episode reward: 9.000, mean reward: 1.000 [1.000, 1.000], mean action: 0.222 [0.000, 1.000], mean observation: 0.125 [-1.415, 2.198], loss: 0.550246, mean_absolute_error: 2.425180, mean_q: 4.629381\n",
      "  735/5000: episode: 33, duration: 0.048s, episode steps: 12, steps per second: 248, episode reward: 12.000, mean reward: 1.000 [1.000, 1.000], mean action: 0.250 [0.000, 1.000], mean observation: 0.108 [-1.154, 1.932], loss: 0.405450, mean_absolute_error: 2.460753, mean_q: 4.707531\n",
      "  746/5000: episode: 34, duration: 0.034s, episode steps: 11, steps per second: 328, episode reward: 11.000, mean reward: 1.000 [1.000, 1.000], mean action: 0.273 [0.000, 1.000], mean observation: 0.130 [-1.125, 1.891], loss: 0.507794, mean_absolute_error: 2.512162, mean_q: 4.787333\n",
      "  754/5000: episode: 35, duration: 0.025s, episode steps: 8, steps per second: 323, episode reward: 8.000, mean reward: 1.000 [1.000, 1.000], mean action: 0.125 [0.000, 1.000], mean observation: 0.138 [-1.394, 2.225], loss: 0.356869, mean_absolute_error: 2.476658, mean_q: 4.871714\n",
      "  770/5000: episode: 36, duration: 0.053s, episode steps: 16, steps per second: 303, episode reward: 16.000, mean reward: 1.000 [1.000, 1.000], mean action: 0.375 [0.000, 1.000], mean observation: 0.055 [-1.192, 1.762], loss: 0.601171, mean_absolute_error: 2.624923, mean_q: 5.024213\n",
      "  783/5000: episode: 37, duration: 0.037s, episode steps: 13, steps per second: 356, episode reward: 13.000, mean reward: 1.000 [1.000, 1.000], mean action: 0.308 [0.000, 1.000], mean observation: 0.112 [-1.161, 1.918], loss: 0.492854, mean_absolute_error: 2.645718, mean_q: 5.034397\n",
      "  793/5000: episode: 38, duration: 0.042s, episode steps: 10, steps per second: 240, episode reward: 10.000, mean reward: 1.000 [1.000, 1.000], mean action: 0.300 [0.000, 1.000], mean observation: 0.130 [-0.964, 1.706], loss: 0.786897, mean_absolute_error: 2.785406, mean_q: 5.155469\n",
      "  803/5000: episode: 39, duration: 0.041s, episode steps: 10, steps per second: 242, episode reward: 10.000, mean reward: 1.000 [1.000, 1.000], mean action: 0.100 [0.000, 1.000], mean observation: 0.127 [-1.568, 2.471], loss: 0.498879, mean_absolute_error: 2.704688, mean_q: 5.232269\n",
      "  812/5000: episode: 40, duration: 0.028s, episode steps: 9, steps per second: 326, episode reward: 9.000, mean reward: 1.000 [1.000, 1.000], mean action: 0.000 [0.000, 0.000], mean observation: 0.144 [-1.774, 2.819], loss: 0.548371, mean_absolute_error: 2.781878, mean_q: 5.372115\n",
      "  820/5000: episode: 41, duration: 0.028s, episode steps: 8, steps per second: 283, episode reward: 8.000, mean reward: 1.000 [1.000, 1.000], mean action: 0.000 [0.000, 0.000], mean observation: 0.169 [-1.565, 2.578], loss: 0.681778, mean_absolute_error: 2.866904, mean_q: 5.479408\n",
      "  831/5000: episode: 42, duration: 0.032s, episode steps: 11, steps per second: 340, episode reward: 11.000, mean reward: 1.000 [1.000, 1.000], mean action: 0.091 [0.000, 1.000], mean observation: 0.106 [-1.809, 2.808], loss: 0.942521, mean_absolute_error: 2.914315, mean_q: 5.498881\n",
      "  839/5000: episode: 43, duration: 0.023s, episode steps: 8, steps per second: 346, episode reward: 8.000, mean reward: 1.000 [1.000, 1.000], mean action: 0.000 [0.000, 0.000], mean observation: 0.174 [-1.530, 2.589], loss: 0.443151, mean_absolute_error: 2.888097, mean_q: 5.538892\n",
      "  849/5000: episode: 44, duration: 0.030s, episode steps: 10, steps per second: 337, episode reward: 10.000, mean reward: 1.000 [1.000, 1.000], mean action: 0.000 [0.000, 0.000], mean observation: 0.159 [-1.915, 3.070], loss: 0.656111, mean_absolute_error: 2.961214, mean_q: 5.668463\n",
      "  858/5000: episode: 45, duration: 0.029s, episode steps: 9, steps per second: 306, episode reward: 9.000, mean reward: 1.000 [1.000, 1.000], mean action: 0.111 [0.000, 1.000], mean observation: 0.162 [-1.525, 2.498], loss: 0.682153, mean_absolute_error: 2.981617, mean_q: 5.758255\n",
      "  867/5000: episode: 46, duration: 0.032s, episode steps: 9, steps per second: 281, episode reward: 9.000, mean reward: 1.000 [1.000, 1.000], mean action: 0.222 [0.000, 1.000], mean observation: 0.160 [-1.139, 1.884], loss: 0.912432, mean_absolute_error: 3.040179, mean_q: 5.741396\n",
      "  877/5000: episode: 47, duration: 0.034s, episode steps: 10, steps per second: 296, episode reward: 10.000, mean reward: 1.000 [1.000, 1.000], mean action: 0.200 [0.000, 1.000], mean observation: 0.152 [-1.332, 2.198], loss: 0.825781, mean_absolute_error: 3.078645, mean_q: 5.749467\n",
      "  887/5000: episode: 48, duration: 0.054s, episode steps: 10, steps per second: 187, episode reward: 10.000, mean reward: 1.000 [1.000, 1.000], mean action: 0.200 [0.000, 1.000], mean observation: 0.113 [-1.212, 1.985], loss: 0.541066, mean_absolute_error: 3.068393, mean_q: 5.859268\n",
      "  898/5000: episode: 49, duration: 0.050s, episode steps: 11, steps per second: 218, episode reward: 11.000, mean reward: 1.000 [1.000, 1.000], mean action: 0.273 [0.000, 1.000], mean observation: 0.121 [-1.185, 1.945], loss: 0.899464, mean_absolute_error: 3.205621, mean_q: 5.996234\n",
      "  911/5000: episode: 50, duration: 0.049s, episode steps: 13, steps per second: 266, episode reward: 13.000, mean reward: 1.000 [1.000, 1.000], mean action: 0.308 [0.000, 1.000], mean observation: 0.083 [-1.197, 1.874], loss: 0.570973, mean_absolute_error: 3.133643, mean_q: 6.030813\n",
      "  921/5000: episode: 51, duration: 0.046s, episode steps: 10, steps per second: 216, episode reward: 10.000, mean reward: 1.000 [1.000, 1.000], mean action: 0.100 [0.000, 1.000], mean observation: 0.147 [-1.726, 2.761], loss: 0.821009, mean_absolute_error: 3.262667, mean_q: 6.193283\n",
      "  931/5000: episode: 52, duration: 0.071s, episode steps: 10, steps per second: 142, episode reward: 10.000, mean reward: 1.000 [1.000, 1.000], mean action: 0.000 [0.000, 0.000], mean observation: 0.124 [-1.986, 3.002], loss: 0.833355, mean_absolute_error: 3.282515, mean_q: 6.277283\n",
      "  941/5000: episode: 53, duration: 0.030s, episode steps: 10, steps per second: 330, episode reward: 10.000, mean reward: 1.000 [1.000, 1.000], mean action: 0.100 [0.000, 1.000], mean observation: 0.122 [-1.605, 2.434], loss: 0.984114, mean_absolute_error: 3.340986, mean_q: 6.332961\n",
      "  950/5000: episode: 54, duration: 0.030s, episode steps: 9, steps per second: 304, episode reward: 9.000, mean reward: 1.000 [1.000, 1.000], mean action: 0.000 [0.000, 0.000], mean observation: 0.135 [-1.765, 2.769], loss: 0.784301, mean_absolute_error: 3.353374, mean_q: 6.317845\n",
      "  960/5000: episode: 55, duration: 0.029s, episode steps: 10, steps per second: 345, episode reward: 10.000, mean reward: 1.000 [1.000, 1.000], mean action: 0.100 [0.000, 1.000], mean observation: 0.125 [-1.548, 2.543], loss: 1.014898, mean_absolute_error: 3.407160, mean_q: 6.400877\n",
      "  970/5000: episode: 56, duration: 0.036s, episode steps: 10, steps per second: 280, episode reward: 10.000, mean reward: 1.000 [1.000, 1.000], mean action: 0.000 [0.000, 0.000], mean observation: 0.123 [-1.984, 3.051], loss: 0.814052, mean_absolute_error: 3.407145, mean_q: 6.434101\n",
      "  980/5000: episode: 57, duration: 0.032s, episode steps: 10, steps per second: 313, episode reward: 10.000, mean reward: 1.000 [1.000, 1.000], mean action: 0.100 [0.000, 1.000], mean observation: 0.136 [-1.582, 2.565], loss: 0.846552, mean_absolute_error: 3.474474, mean_q: 6.518629\n",
      "  990/5000: episode: 58, duration: 0.031s, episode steps: 10, steps per second: 325, episode reward: 10.000, mean reward: 1.000 [1.000, 1.000], mean action: 0.100 [0.000, 1.000], mean observation: 0.149 [-1.731, 2.770], loss: 0.909131, mean_absolute_error: 3.543031, mean_q: 6.629038\n",
      "  998/5000: episode: 59, duration: 0.038s, episode steps: 8, steps per second: 212, episode reward: 8.000, mean reward: 1.000 [1.000, 1.000], mean action: 0.125 [0.000, 1.000], mean observation: 0.134 [-1.409, 2.230], loss: 1.016566, mean_absolute_error: 3.569251, mean_q: 6.721195\n",
      " 1010/5000: episode: 60, duration: 0.052s, episode steps: 12, steps per second: 231, episode reward: 12.000, mean reward: 1.000 [1.000, 1.000], mean action: 0.250 [0.000, 1.000], mean observation: 0.106 [-1.409, 2.094], loss: 1.200405, mean_absolute_error: 3.627547, mean_q: 6.714571\n"
     ]
    },
    {
     "name": "stdout",
     "output_type": "stream",
     "text": [
      " 1019/5000: episode: 61, duration: 0.053s, episode steps: 9, steps per second: 170, episode reward: 9.000, mean reward: 1.000 [1.000, 1.000], mean action: 0.222 [0.000, 1.000], mean observation: 0.112 [-1.381, 2.095], loss: 0.851325, mean_absolute_error: 3.599264, mean_q: 6.630264\n",
      " 1029/5000: episode: 62, duration: 0.077s, episode steps: 10, steps per second: 130, episode reward: 10.000, mean reward: 1.000 [1.000, 1.000], mean action: 0.200 [0.000, 1.000], mean observation: 0.115 [-1.364, 2.152], loss: 0.705191, mean_absolute_error: 3.591359, mean_q: 6.794271\n",
      " 1041/5000: episode: 63, duration: 0.081s, episode steps: 12, steps per second: 147, episode reward: 12.000, mean reward: 1.000 [1.000, 1.000], mean action: 0.167 [0.000, 1.000], mean observation: 0.108 [-1.523, 2.393], loss: 1.249551, mean_absolute_error: 3.724857, mean_q: 6.841347\n",
      " 1053/5000: episode: 64, duration: 0.045s, episode steps: 12, steps per second: 266, episode reward: 12.000, mean reward: 1.000 [1.000, 1.000], mean action: 0.250 [0.000, 1.000], mean observation: 0.108 [-1.520, 2.381], loss: 0.942905, mean_absolute_error: 3.706144, mean_q: 6.865543\n",
      " 1064/5000: episode: 65, duration: 0.043s, episode steps: 11, steps per second: 256, episode reward: 11.000, mean reward: 1.000 [1.000, 1.000], mean action: 0.182 [0.000, 1.000], mean observation: 0.118 [-1.578, 2.436], loss: 0.907659, mean_absolute_error: 3.724760, mean_q: 6.978620\n",
      " 1075/5000: episode: 66, duration: 0.034s, episode steps: 11, steps per second: 324, episode reward: 11.000, mean reward: 1.000 [1.000, 1.000], mean action: 0.091 [0.000, 1.000], mean observation: 0.118 [-1.743, 2.767], loss: 0.900806, mean_absolute_error: 3.764921, mean_q: 7.060681\n",
      " 1085/5000: episode: 67, duration: 0.028s, episode steps: 10, steps per second: 359, episode reward: 10.000, mean reward: 1.000 [1.000, 1.000], mean action: 0.000 [0.000, 0.000], mean observation: 0.127 [-1.958, 3.017], loss: 1.237862, mean_absolute_error: 3.823880, mean_q: 7.072477\n",
      " 1094/5000: episode: 68, duration: 0.029s, episode steps: 9, steps per second: 308, episode reward: 9.000, mean reward: 1.000 [1.000, 1.000], mean action: 0.111 [0.000, 1.000], mean observation: 0.153 [-1.544, 2.499], loss: 1.128074, mean_absolute_error: 3.819620, mean_q: 7.066235\n",
      " 1104/5000: episode: 69, duration: 0.028s, episode steps: 10, steps per second: 358, episode reward: 10.000, mean reward: 1.000 [1.000, 1.000], mean action: 0.000 [0.000, 0.000], mean observation: 0.137 [-1.942, 3.066], loss: 1.237736, mean_absolute_error: 3.880087, mean_q: 7.095012\n",
      " 1114/5000: episode: 70, duration: 0.040s, episode steps: 10, steps per second: 252, episode reward: 10.000, mean reward: 1.000 [1.000, 1.000], mean action: 0.000 [0.000, 0.000], mean observation: 0.159 [-1.940, 3.084], loss: 1.263054, mean_absolute_error: 3.863110, mean_q: 7.012922\n",
      " 1122/5000: episode: 71, duration: 0.042s, episode steps: 8, steps per second: 192, episode reward: 8.000, mean reward: 1.000 [1.000, 1.000], mean action: 0.000 [0.000, 0.000], mean observation: 0.143 [-1.611, 2.526], loss: 0.874616, mean_absolute_error: 3.817615, mean_q: 7.040618\n",
      " 1134/5000: episode: 72, duration: 0.043s, episode steps: 12, steps per second: 278, episode reward: 12.000, mean reward: 1.000 [1.000, 1.000], mean action: 0.167 [0.000, 1.000], mean observation: 0.137 [-1.541, 2.675], loss: 1.226986, mean_absolute_error: 3.916304, mean_q: 7.158283\n",
      " 1145/5000: episode: 73, duration: 0.033s, episode steps: 11, steps per second: 333, episode reward: 11.000, mean reward: 1.000 [1.000, 1.000], mean action: 0.091 [0.000, 1.000], mean observation: 0.101 [-1.805, 2.807], loss: 0.932448, mean_absolute_error: 3.900080, mean_q: 7.318344\n",
      " 1153/5000: episode: 74, duration: 0.022s, episode steps: 8, steps per second: 356, episode reward: 8.000, mean reward: 1.000 [1.000, 1.000], mean action: 0.000 [0.000, 0.000], mean observation: 0.163 [-1.532, 2.551], loss: 1.484252, mean_absolute_error: 3.980975, mean_q: 7.276914\n",
      " 1162/5000: episode: 75, duration: 0.029s, episode steps: 9, steps per second: 308, episode reward: 9.000, mean reward: 1.000 [1.000, 1.000], mean action: 0.000 [0.000, 0.000], mean observation: 0.149 [-1.740, 2.796], loss: 0.986788, mean_absolute_error: 3.929711, mean_q: 7.226768\n",
      " 1173/5000: episode: 76, duration: 0.046s, episode steps: 11, steps per second: 239, episode reward: 11.000, mean reward: 1.000 [1.000, 1.000], mean action: 0.091 [0.000, 1.000], mean observation: 0.138 [-1.717, 2.793], loss: 0.861496, mean_absolute_error: 3.983469, mean_q: 7.406385\n",
      " 1184/5000: episode: 77, duration: 0.112s, episode steps: 11, steps per second: 98, episode reward: 11.000, mean reward: 1.000 [1.000, 1.000], mean action: 0.182 [0.000, 1.000], mean observation: 0.120 [-1.537, 2.310], loss: 1.168130, mean_absolute_error: 4.006073, mean_q: 7.275133\n",
      " 1193/5000: episode: 78, duration: 0.053s, episode steps: 9, steps per second: 170, episode reward: 9.000, mean reward: 1.000 [1.000, 1.000], mean action: 0.222 [0.000, 1.000], mean observation: 0.152 [-1.135, 1.939], loss: 0.925528, mean_absolute_error: 3.996787, mean_q: 7.366623\n",
      " 1203/5000: episode: 79, duration: 0.079s, episode steps: 10, steps per second: 126, episode reward: 10.000, mean reward: 1.000 [1.000, 1.000], mean action: 0.200 [0.000, 1.000], mean observation: 0.139 [-1.334, 2.128], loss: 0.827357, mean_absolute_error: 4.020713, mean_q: 7.481837\n",
      " 1215/5000: episode: 80, duration: 0.105s, episode steps: 12, steps per second: 115, episode reward: 12.000, mean reward: 1.000 [1.000, 1.000], mean action: 0.333 [0.000, 1.000], mean observation: 0.119 [-1.130, 1.795], loss: 1.304191, mean_absolute_error: 4.110233, mean_q: 7.520645\n",
      " 1244/5000: episode: 81, duration: 0.159s, episode steps: 29, steps per second: 182, episode reward: 29.000, mean reward: 1.000 [1.000, 1.000], mean action: 0.517 [0.000, 1.000], mean observation: 0.097 [-0.378, 0.765], loss: 0.888160, mean_absolute_error: 4.045136, mean_q: 7.464533\n",
      " 1356/5000: episode: 82, duration: 0.771s, episode steps: 112, steps per second: 145, episode reward: 112.000, mean reward: 1.000 [1.000, 1.000], mean action: 0.518 [0.000, 1.000], mean observation: 0.059 [-0.346, 0.860], loss: 0.918163, mean_absolute_error: 4.192906, mean_q: 7.758344\n",
      " 1383/5000: episode: 83, duration: 0.086s, episode steps: 27, steps per second: 315, episode reward: 27.000, mean reward: 1.000 [1.000, 1.000], mean action: 0.519 [0.000, 1.000], mean observation: -0.088 [-0.989, 0.371], loss: 0.907887, mean_absolute_error: 4.361378, mean_q: 8.099280\n",
      " 1417/5000: episode: 84, duration: 0.126s, episode steps: 34, steps per second: 270, episode reward: 34.000, mean reward: 1.000 [1.000, 1.000], mean action: 0.471 [0.000, 1.000], mean observation: -0.070 [-0.759, 0.437], loss: 0.903693, mean_absolute_error: 4.423831, mean_q: 8.291820\n",
      " 1466/5000: episode: 85, duration: 0.255s, episode steps: 49, steps per second: 192, episode reward: 49.000, mean reward: 1.000 [1.000, 1.000], mean action: 0.490 [0.000, 1.000], mean observation: -0.047 [-0.773, 0.302], loss: 0.713231, mean_absolute_error: 4.541923, mean_q: 8.609356\n",
      " 1494/5000: episode: 86, duration: 0.085s, episode steps: 28, steps per second: 330, episode reward: 28.000, mean reward: 1.000 [1.000, 1.000], mean action: 0.500 [0.000, 1.000], mean observation: -0.081 [-0.977, 0.404], loss: 1.177938, mean_absolute_error: 4.686814, mean_q: 8.836978\n",
      " 1510/5000: episode: 87, duration: 0.057s, episode steps: 16, steps per second: 283, episode reward: 16.000, mean reward: 1.000 [1.000, 1.000], mean action: 0.562 [0.000, 1.000], mean observation: -0.087 [-1.082, 0.458], loss: 0.855710, mean_absolute_error: 4.750632, mean_q: 8.989245\n",
      " 1523/5000: episode: 88, duration: 0.059s, episode steps: 13, steps per second: 221, episode reward: 13.000, mean reward: 1.000 [1.000, 1.000], mean action: 0.538 [0.000, 1.000], mean observation: -0.117 [-1.179, 0.563], loss: 0.596012, mean_absolute_error: 4.761930, mean_q: 9.081888\n",
      " 1537/5000: episode: 89, duration: 0.055s, episode steps: 14, steps per second: 254, episode reward: 14.000, mean reward: 1.000 [1.000, 1.000], mean action: 0.571 [0.000, 1.000], mean observation: -0.096 [-1.189, 0.574], loss: 1.330600, mean_absolute_error: 4.890489, mean_q: 9.202809\n",
      " 1551/5000: episode: 90, duration: 0.041s, episode steps: 14, steps per second: 340, episode reward: 14.000, mean reward: 1.000 [1.000, 1.000], mean action: 0.571 [0.000, 1.000], mean observation: -0.105 [-1.088, 0.634], loss: 1.261041, mean_absolute_error: 4.912450, mean_q: 9.200751\n",
      " 1563/5000: episode: 91, duration: 0.032s, episode steps: 12, steps per second: 375, episode reward: 12.000, mean reward: 1.000 [1.000, 1.000], mean action: 0.583 [0.000, 1.000], mean observation: -0.101 [-1.230, 0.648], loss: 0.915941, mean_absolute_error: 4.921213, mean_q: 9.354455\n",
      " 1575/5000: episode: 92, duration: 0.035s, episode steps: 12, steps per second: 342, episode reward: 12.000, mean reward: 1.000 [1.000, 1.000], mean action: 0.667 [0.000, 1.000], mean observation: -0.103 [-1.507, 0.771], loss: 1.163727, mean_absolute_error: 4.969920, mean_q: 9.475400\n",
      " 1584/5000: episode: 93, duration: 0.050s, episode steps: 9, steps per second: 180, episode reward: 9.000, mean reward: 1.000 [1.000, 1.000], mean action: 1.000 [1.000, 1.000], mean observation: -0.166 [-2.872, 1.760], loss: 1.171073, mean_absolute_error: 5.039768, mean_q: 9.673287\n"
     ]
    },
    {
     "name": "stdout",
     "output_type": "stream",
     "text": [
      " 1594/5000: episode: 94, duration: 0.059s, episode steps: 10, steps per second: 170, episode reward: 10.000, mean reward: 1.000 [1.000, 1.000], mean action: 0.900 [0.000, 1.000], mean observation: -0.145 [-2.565, 1.546], loss: 0.832654, mean_absolute_error: 5.084817, mean_q: 9.800223\n",
      " 1607/5000: episode: 95, duration: 0.079s, episode steps: 13, steps per second: 164, episode reward: 13.000, mean reward: 1.000 [1.000, 1.000], mean action: 0.923 [0.000, 1.000], mean observation: -0.089 [-3.239, 2.182], loss: 1.098931, mean_absolute_error: 5.153320, mean_q: 9.887808\n",
      " 1616/5000: episode: 96, duration: 0.040s, episode steps: 9, steps per second: 226, episode reward: 9.000, mean reward: 1.000 [1.000, 1.000], mean action: 1.000 [1.000, 1.000], mean observation: -0.133 [-2.803, 1.807], loss: 1.213763, mean_absolute_error: 5.239963, mean_q: 9.999411\n",
      " 1628/5000: episode: 97, duration: 0.070s, episode steps: 12, steps per second: 171, episode reward: 12.000, mean reward: 1.000 [1.000, 1.000], mean action: 0.833 [0.000, 1.000], mean observation: -0.121 [-2.594, 1.556], loss: 1.350018, mean_absolute_error: 5.241034, mean_q: 9.947682\n",
      " 1650/5000: episode: 98, duration: 0.101s, episode steps: 22, steps per second: 218, episode reward: 22.000, mean reward: 1.000 [1.000, 1.000], mean action: 0.500 [0.000, 1.000], mean observation: -0.065 [-1.108, 0.808], loss: 2.013062, mean_absolute_error: 5.361027, mean_q: 9.965643\n",
      " 1674/5000: episode: 99, duration: 0.074s, episode steps: 24, steps per second: 324, episode reward: 24.000, mean reward: 1.000 [1.000, 1.000], mean action: 0.500 [0.000, 1.000], mean observation: -0.071 [-0.973, 0.398], loss: 1.689635, mean_absolute_error: 5.392001, mean_q: 10.052207\n",
      " 1691/5000: episode: 100, duration: 0.051s, episode steps: 17, steps per second: 331, episode reward: 17.000, mean reward: 1.000 [1.000, 1.000], mean action: 0.529 [0.000, 1.000], mean observation: -0.128 [-1.095, 0.370], loss: 1.947393, mean_absolute_error: 5.473475, mean_q: 10.204505\n",
      " 1710/5000: episode: 101, duration: 0.052s, episode steps: 19, steps per second: 362, episode reward: 19.000, mean reward: 1.000 [1.000, 1.000], mean action: 0.526 [0.000, 1.000], mean observation: -0.111 [-0.945, 0.406], loss: 1.891240, mean_absolute_error: 5.464497, mean_q: 10.214875\n",
      " 1737/5000: episode: 102, duration: 0.083s, episode steps: 27, steps per second: 327, episode reward: 27.000, mean reward: 1.000 [1.000, 1.000], mean action: 0.481 [0.000, 1.000], mean observation: -0.094 [-0.761, 0.235], loss: 1.535360, mean_absolute_error: 5.518376, mean_q: 10.358080\n",
      " 1762/5000: episode: 103, duration: 0.077s, episode steps: 25, steps per second: 324, episode reward: 25.000, mean reward: 1.000 [1.000, 1.000], mean action: 0.480 [0.000, 1.000], mean observation: -0.083 [-0.909, 0.275], loss: 1.473051, mean_absolute_error: 5.573023, mean_q: 10.575678\n",
      " 1787/5000: episode: 104, duration: 0.082s, episode steps: 25, steps per second: 305, episode reward: 25.000, mean reward: 1.000 [1.000, 1.000], mean action: 0.520 [0.000, 1.000], mean observation: -0.064 [-1.212, 0.602], loss: 1.763724, mean_absolute_error: 5.680284, mean_q: 10.706979\n",
      " 1804/5000: episode: 105, duration: 0.100s, episode steps: 17, steps per second: 170, episode reward: 17.000, mean reward: 1.000 [1.000, 1.000], mean action: 0.529 [0.000, 1.000], mean observation: -0.106 [-0.978, 0.389], loss: 1.979510, mean_absolute_error: 5.726005, mean_q: 10.780704\n",
      " 1821/5000: episode: 106, duration: 0.101s, episode steps: 17, steps per second: 169, episode reward: 17.000, mean reward: 1.000 [1.000, 1.000], mean action: 0.529 [0.000, 1.000], mean observation: -0.106 [-1.061, 0.404], loss: 1.679644, mean_absolute_error: 5.729161, mean_q: 10.831398\n",
      " 1835/5000: episode: 107, duration: 0.134s, episode steps: 14, steps per second: 104, episode reward: 14.000, mean reward: 1.000 [1.000, 1.000], mean action: 0.571 [0.000, 1.000], mean observation: -0.083 [-1.013, 0.607], loss: 1.731525, mean_absolute_error: 5.840170, mean_q: 11.075511\n",
      " 1850/5000: episode: 108, duration: 0.062s, episode steps: 15, steps per second: 242, episode reward: 15.000, mean reward: 1.000 [1.000, 1.000], mean action: 0.533 [0.000, 1.000], mean observation: -0.068 [-1.156, 0.641], loss: 1.470618, mean_absolute_error: 5.784577, mean_q: 10.998386\n",
      " 1871/5000: episode: 109, duration: 0.067s, episode steps: 21, steps per second: 315, episode reward: 21.000, mean reward: 1.000 [1.000, 1.000], mean action: 0.524 [0.000, 1.000], mean observation: -0.050 [-0.994, 0.627], loss: 1.467638, mean_absolute_error: 5.864146, mean_q: 11.198522\n",
      " 1889/5000: episode: 110, duration: 0.084s, episode steps: 18, steps per second: 213, episode reward: 18.000, mean reward: 1.000 [1.000, 1.000], mean action: 0.556 [0.000, 1.000], mean observation: -0.103 [-1.092, 0.589], loss: 1.927455, mean_absolute_error: 6.026073, mean_q: 11.453712\n",
      " 1905/5000: episode: 111, duration: 0.059s, episode steps: 16, steps per second: 271, episode reward: 16.000, mean reward: 1.000 [1.000, 1.000], mean action: 0.562 [0.000, 1.000], mean observation: -0.098 [-1.179, 0.770], loss: 1.935667, mean_absolute_error: 6.029216, mean_q: 11.470662\n",
      " 1918/5000: episode: 112, duration: 0.044s, episode steps: 13, steps per second: 294, episode reward: 13.000, mean reward: 1.000 [1.000, 1.000], mean action: 0.538 [0.000, 1.000], mean observation: -0.098 [-1.173, 0.617], loss: 2.368851, mean_absolute_error: 6.062476, mean_q: 11.400072\n",
      " 1935/5000: episode: 113, duration: 0.075s, episode steps: 17, steps per second: 228, episode reward: 17.000, mean reward: 1.000 [1.000, 1.000], mean action: 0.529 [0.000, 1.000], mean observation: -0.070 [-1.228, 0.809], loss: 2.326297, mean_absolute_error: 6.160613, mean_q: 11.546232\n",
      " 1955/5000: episode: 114, duration: 0.079s, episode steps: 20, steps per second: 253, episode reward: 20.000, mean reward: 1.000 [1.000, 1.000], mean action: 0.550 [0.000, 1.000], mean observation: -0.086 [-1.195, 0.566], loss: 2.555029, mean_absolute_error: 6.219254, mean_q: 11.554013\n",
      " 1975/5000: episode: 115, duration: 0.065s, episode steps: 20, steps per second: 307, episode reward: 20.000, mean reward: 1.000 [1.000, 1.000], mean action: 0.550 [0.000, 1.000], mean observation: -0.094 [-1.069, 0.553], loss: 1.383085, mean_absolute_error: 6.175440, mean_q: 11.730909\n",
      " 2001/5000: episode: 116, duration: 0.083s, episode steps: 26, steps per second: 315, episode reward: 26.000, mean reward: 1.000 [1.000, 1.000], mean action: 0.538 [0.000, 1.000], mean observation: -0.060 [-1.109, 0.385], loss: 2.293929, mean_absolute_error: 6.274780, mean_q: 11.886402\n",
      " 2018/5000: episode: 117, duration: 0.088s, episode steps: 17, steps per second: 192, episode reward: 17.000, mean reward: 1.000 [1.000, 1.000], mean action: 0.529 [0.000, 1.000], mean observation: -0.114 [-1.189, 0.424], loss: 1.835482, mean_absolute_error: 6.235015, mean_q: 11.785814\n",
      " 2030/5000: episode: 118, duration: 0.048s, episode steps: 12, steps per second: 251, episode reward: 12.000, mean reward: 1.000 [1.000, 1.000], mean action: 0.583 [0.000, 1.000], mean observation: -0.116 [-1.193, 0.573], loss: 2.893566, mean_absolute_error: 6.477556, mean_q: 12.046882\n",
      " 2041/5000: episode: 119, duration: 0.039s, episode steps: 11, steps per second: 279, episode reward: 11.000, mean reward: 1.000 [1.000, 1.000], mean action: 0.636 [0.000, 1.000], mean observation: -0.128 [-1.315, 0.795], loss: 2.113064, mean_absolute_error: 6.390193, mean_q: 12.021587\n",
      " 2055/5000: episode: 120, duration: 0.050s, episode steps: 14, steps per second: 283, episode reward: 14.000, mean reward: 1.000 [1.000, 1.000], mean action: 0.571 [0.000, 1.000], mean observation: -0.101 [-1.277, 0.645], loss: 2.879161, mean_absolute_error: 6.426754, mean_q: 11.975563\n",
      " 2074/5000: episode: 121, duration: 0.054s, episode steps: 19, steps per second: 354, episode reward: 19.000, mean reward: 1.000 [1.000, 1.000], mean action: 0.526 [0.000, 1.000], mean observation: -0.119 [-0.911, 0.367], loss: 1.945227, mean_absolute_error: 6.379761, mean_q: 12.052670\n",
      " 2107/5000: episode: 122, duration: 0.139s, episode steps: 33, steps per second: 237, episode reward: 33.000, mean reward: 1.000 [1.000, 1.000], mean action: 0.485 [0.000, 1.000], mean observation: -0.065 [-0.773, 0.378], loss: 2.311151, mean_absolute_error: 6.456719, mean_q: 12.168780\n",
      " 2123/5000: episode: 123, duration: 0.050s, episode steps: 16, steps per second: 319, episode reward: 16.000, mean reward: 1.000 [1.000, 1.000], mean action: 0.500 [0.000, 1.000], mean observation: -0.120 [-0.896, 0.365], loss: 2.521114, mean_absolute_error: 6.554166, mean_q: 12.330189\n",
      " 2153/5000: episode: 124, duration: 0.147s, episode steps: 30, steps per second: 204, episode reward: 30.000, mean reward: 1.000 [1.000, 1.000], mean action: 0.500 [0.000, 1.000], mean observation: -0.054 [-0.822, 0.403], loss: 2.139896, mean_absolute_error: 6.510423, mean_q: 12.322111\n"
     ]
    },
    {
     "name": "stdout",
     "output_type": "stream",
     "text": [
      " 2173/5000: episode: 125, duration: 0.130s, episode steps: 20, steps per second: 154, episode reward: 20.000, mean reward: 1.000 [1.000, 1.000], mean action: 0.550 [0.000, 1.000], mean observation: -0.087 [-1.121, 0.409], loss: 2.966466, mean_absolute_error: 6.720218, mean_q: 12.614009\n",
      " 2183/5000: episode: 126, duration: 0.041s, episode steps: 10, steps per second: 245, episode reward: 10.000, mean reward: 1.000 [1.000, 1.000], mean action: 0.600 [0.000, 1.000], mean observation: -0.122 [-1.267, 0.811], loss: 2.345402, mean_absolute_error: 6.601795, mean_q: 12.487072\n",
      " 2194/5000: episode: 127, duration: 0.039s, episode steps: 11, steps per second: 285, episode reward: 11.000, mean reward: 1.000 [1.000, 1.000], mean action: 0.636 [0.000, 1.000], mean observation: -0.106 [-1.382, 0.823], loss: 1.727130, mean_absolute_error: 6.677570, mean_q: 12.830669\n",
      " 2212/5000: episode: 128, duration: 0.049s, episode steps: 18, steps per second: 370, episode reward: 18.000, mean reward: 1.000 [1.000, 1.000], mean action: 0.556 [0.000, 1.000], mean observation: -0.066 [-1.083, 0.641], loss: 2.986839, mean_absolute_error: 6.864386, mean_q: 12.916078\n",
      " 2232/5000: episode: 129, duration: 0.059s, episode steps: 20, steps per second: 338, episode reward: 20.000, mean reward: 1.000 [1.000, 1.000], mean action: 0.550 [0.000, 1.000], mean observation: -0.082 [-1.033, 0.571], loss: 2.620082, mean_absolute_error: 6.822999, mean_q: 12.848826\n",
      " 2259/5000: episode: 130, duration: 0.104s, episode steps: 27, steps per second: 259, episode reward: 27.000, mean reward: 1.000 [1.000, 1.000], mean action: 0.519 [0.000, 1.000], mean observation: -0.064 [-0.911, 0.377], loss: 2.488389, mean_absolute_error: 6.852129, mean_q: 12.918941\n",
      " 2284/5000: episode: 131, duration: 0.082s, episode steps: 25, steps per second: 306, episode reward: 25.000, mean reward: 1.000 [1.000, 1.000], mean action: 0.480 [0.000, 1.000], mean observation: -0.101 [-0.873, 0.374], loss: 3.917207, mean_absolute_error: 6.993402, mean_q: 13.003611\n",
      " 2318/5000: episode: 132, duration: 0.098s, episode steps: 34, steps per second: 349, episode reward: 34.000, mean reward: 1.000 [1.000, 1.000], mean action: 0.500 [0.000, 1.000], mean observation: -0.065 [-0.908, 0.406], loss: 2.603806, mean_absolute_error: 6.899609, mean_q: 12.959648\n",
      " 2369/5000: episode: 133, duration: 0.173s, episode steps: 51, steps per second: 294, episode reward: 51.000, mean reward: 1.000 [1.000, 1.000], mean action: 0.490 [0.000, 1.000], mean observation: -0.050 [-0.740, 0.420], loss: 2.366279, mean_absolute_error: 7.004333, mean_q: 13.310486\n",
      " 2402/5000: episode: 134, duration: 0.118s, episode steps: 33, steps per second: 280, episode reward: 33.000, mean reward: 1.000 [1.000, 1.000], mean action: 0.515 [0.000, 1.000], mean observation: -0.096 [-1.237, 0.259], loss: 3.165257, mean_absolute_error: 7.102539, mean_q: 13.291093\n",
      " 2430/5000: episode: 135, duration: 0.100s, episode steps: 28, steps per second: 279, episode reward: 28.000, mean reward: 1.000 [1.000, 1.000], mean action: 0.464 [0.000, 1.000], mean observation: -0.110 [-0.710, 0.190], loss: 2.979162, mean_absolute_error: 7.066959, mean_q: 13.279624\n",
      " 2475/5000: episode: 136, duration: 0.140s, episode steps: 45, steps per second: 322, episode reward: 45.000, mean reward: 1.000 [1.000, 1.000], mean action: 0.489 [0.000, 1.000], mean observation: -0.060 [-0.786, 0.358], loss: 2.782634, mean_absolute_error: 7.179578, mean_q: 13.531472\n",
      " 2502/5000: episode: 137, duration: 0.081s, episode steps: 27, steps per second: 333, episode reward: 27.000, mean reward: 1.000 [1.000, 1.000], mean action: 0.481 [0.000, 1.000], mean observation: -0.094 [-0.859, 0.405], loss: 2.778108, mean_absolute_error: 7.248541, mean_q: 13.737230\n",
      " 2533/5000: episode: 138, duration: 0.101s, episode steps: 31, steps per second: 307, episode reward: 31.000, mean reward: 1.000 [1.000, 1.000], mean action: 0.484 [0.000, 1.000], mean observation: -0.080 [-0.764, 0.416], loss: 2.693738, mean_absolute_error: 7.320006, mean_q: 13.932752\n",
      " 2564/5000: episode: 139, duration: 0.088s, episode steps: 31, steps per second: 351, episode reward: 31.000, mean reward: 1.000 [1.000, 1.000], mean action: 0.484 [0.000, 1.000], mean observation: -0.070 [-0.839, 0.540], loss: 2.594020, mean_absolute_error: 7.391509, mean_q: 14.053820\n",
      " 2584/5000: episode: 140, duration: 0.076s, episode steps: 20, steps per second: 264, episode reward: 20.000, mean reward: 1.000 [1.000, 1.000], mean action: 0.500 [0.000, 1.000], mean observation: -0.108 [-0.895, 0.395], loss: 2.752829, mean_absolute_error: 7.410783, mean_q: 14.075842\n",
      " 2614/5000: episode: 141, duration: 0.094s, episode steps: 30, steps per second: 318, episode reward: 30.000, mean reward: 1.000 [1.000, 1.000], mean action: 0.500 [0.000, 1.000], mean observation: -0.094 [-0.898, 0.566], loss: 2.742181, mean_absolute_error: 7.415854, mean_q: 14.048028\n",
      " 2638/5000: episode: 142, duration: 0.081s, episode steps: 24, steps per second: 295, episode reward: 24.000, mean reward: 1.000 [1.000, 1.000], mean action: 0.500 [0.000, 1.000], mean observation: -0.119 [-0.877, 0.196], loss: 3.092723, mean_absolute_error: 7.490606, mean_q: 14.200455\n",
      " 2707/5000: episode: 143, duration: 0.248s, episode steps: 69, steps per second: 278, episode reward: 69.000, mean reward: 1.000 [1.000, 1.000], mean action: 0.493 [0.000, 1.000], mean observation: 0.027 [-0.911, 0.428], loss: 2.732687, mean_absolute_error: 7.609177, mean_q: 14.528454\n",
      " 2755/5000: episode: 144, duration: 0.180s, episode steps: 48, steps per second: 266, episode reward: 48.000, mean reward: 1.000 [1.000, 1.000], mean action: 0.479 [0.000, 1.000], mean observation: -0.076 [-0.644, 0.311], loss: 2.666743, mean_absolute_error: 7.670530, mean_q: 14.642896\n",
      " 2898/5000: episode: 145, duration: 0.449s, episode steps: 143, steps per second: 318, episode reward: 143.000, mean reward: 1.000 [1.000, 1.000], mean action: 0.490 [0.000, 1.000], mean observation: 0.004 [-0.893, 0.403], loss: 3.274953, mean_absolute_error: 7.920331, mean_q: 15.042110\n",
      " 2938/5000: episode: 146, duration: 0.144s, episode steps: 40, steps per second: 277, episode reward: 40.000, mean reward: 1.000 [1.000, 1.000], mean action: 0.475 [0.000, 1.000], mean observation: -0.131 [-0.767, 0.205], loss: 3.451944, mean_absolute_error: 7.984090, mean_q: 15.177900\n",
      " 2983/5000: episode: 147, duration: 0.315s, episode steps: 45, steps per second: 143, episode reward: 45.000, mean reward: 1.000 [1.000, 1.000], mean action: 0.467 [0.000, 1.000], mean observation: -0.133 [-0.723, 0.176], loss: 3.660589, mean_absolute_error: 8.167718, mean_q: 15.465142\n",
      " 3081/5000: episode: 148, duration: 0.306s, episode steps: 98, steps per second: 320, episode reward: 98.000, mean reward: 1.000 [1.000, 1.000], mean action: 0.480 [0.000, 1.000], mean observation: -0.041 [-0.715, 0.359], loss: 3.331881, mean_absolute_error: 8.242008, mean_q: 15.702267\n",
      " 3125/5000: episode: 149, duration: 0.132s, episode steps: 44, steps per second: 334, episode reward: 44.000, mean reward: 1.000 [1.000, 1.000], mean action: 0.455 [0.000, 1.000], mean observation: -0.119 [-0.854, 0.405], loss: 3.252916, mean_absolute_error: 8.313353, mean_q: 15.900052\n",
      " 3165/5000: episode: 150, duration: 0.220s, episode steps: 40, steps per second: 182, episode reward: 40.000, mean reward: 1.000 [1.000, 1.000], mean action: 0.475 [0.000, 1.000], mean observation: -0.124 [-0.699, 0.194], loss: 3.597640, mean_absolute_error: 8.439150, mean_q: 16.045597\n",
      " 3216/5000: episode: 151, duration: 0.189s, episode steps: 51, steps per second: 270, episode reward: 51.000, mean reward: 1.000 [1.000, 1.000], mean action: 0.471 [0.000, 1.000], mean observation: -0.103 [-0.779, 0.400], loss: 3.207514, mean_absolute_error: 8.454439, mean_q: 16.161022\n",
      " 3284/5000: episode: 152, duration: 0.233s, episode steps: 68, steps per second: 292, episode reward: 68.000, mean reward: 1.000 [1.000, 1.000], mean action: 0.485 [0.000, 1.000], mean observation: -0.109 [-0.750, 0.345], loss: 3.649850, mean_absolute_error: 8.505223, mean_q: 16.195166\n",
      " 3343/5000: episode: 153, duration: 0.237s, episode steps: 59, steps per second: 249, episode reward: 59.000, mean reward: 1.000 [1.000, 1.000], mean action: 0.475 [0.000, 1.000], mean observation: -0.105 [-0.715, 0.396], loss: 3.537826, mean_absolute_error: 8.628943, mean_q: 16.462570\n"
     ]
    },
    {
     "name": "stdout",
     "output_type": "stream",
     "text": [
      " 3404/5000: episode: 154, duration: 0.205s, episode steps: 61, steps per second: 297, episode reward: 61.000, mean reward: 1.000 [1.000, 1.000], mean action: 0.475 [0.000, 1.000], mean observation: -0.099 [-0.838, 0.415], loss: 3.463993, mean_absolute_error: 8.686560, mean_q: 16.619293\n",
      " 3455/5000: episode: 155, duration: 0.144s, episode steps: 51, steps per second: 355, episode reward: 51.000, mean reward: 1.000 [1.000, 1.000], mean action: 0.471 [0.000, 1.000], mean observation: -0.087 [-0.639, 0.213], loss: 2.748727, mean_absolute_error: 8.707896, mean_q: 16.757130\n",
      " 3494/5000: episode: 156, duration: 0.132s, episode steps: 39, steps per second: 295, episode reward: 39.000, mean reward: 1.000 [1.000, 1.000], mean action: 0.462 [0.000, 1.000], mean observation: -0.132 [-0.753, 0.190], loss: 3.166207, mean_absolute_error: 8.903388, mean_q: 17.184328\n",
      " 3593/5000: episode: 157, duration: 0.373s, episode steps: 99, steps per second: 265, episode reward: 99.000, mean reward: 1.000 [1.000, 1.000], mean action: 0.515 [0.000, 1.000], mean observation: 0.148 [-0.531, 0.779], loss: 3.276177, mean_absolute_error: 8.956677, mean_q: 17.211103\n",
      " 3636/5000: episode: 158, duration: 0.119s, episode steps: 43, steps per second: 361, episode reward: 43.000, mean reward: 1.000 [1.000, 1.000], mean action: 0.465 [0.000, 1.000], mean observation: -0.108 [-0.725, 0.207], loss: 3.088673, mean_absolute_error: 9.088660, mean_q: 17.496391\n",
      " 3731/5000: episode: 159, duration: 0.386s, episode steps: 95, steps per second: 246, episode reward: 95.000, mean reward: 1.000 [1.000, 1.000], mean action: 0.516 [0.000, 1.000], mean observation: 0.126 [-0.467, 0.682], loss: 3.002226, mean_absolute_error: 9.192054, mean_q: 17.753590\n",
      " 3779/5000: episode: 160, duration: 0.183s, episode steps: 48, steps per second: 262, episode reward: 48.000, mean reward: 1.000 [1.000, 1.000], mean action: 0.458 [0.000, 1.000], mean observation: -0.121 [-0.701, 0.248], loss: 3.278842, mean_absolute_error: 9.308908, mean_q: 17.963205\n",
      " 3901/5000: episode: 161, duration: 0.394s, episode steps: 122, steps per second: 310, episode reward: 122.000, mean reward: 1.000 [1.000, 1.000], mean action: 0.508 [0.000, 1.000], mean observation: 0.142 [-0.525, 0.862], loss: 3.644378, mean_absolute_error: 9.428067, mean_q: 18.146826\n",
      " 4021/5000: episode: 162, duration: 0.329s, episode steps: 120, steps per second: 364, episode reward: 120.000, mean reward: 1.000 [1.000, 1.000], mean action: 0.517 [0.000, 1.000], mean observation: 0.160 [-0.602, 0.871], loss: 3.420775, mean_absolute_error: 9.715815, mean_q: 18.750635\n",
      " 4058/5000: episode: 163, duration: 0.170s, episode steps: 37, steps per second: 218, episode reward: 37.000, mean reward: 1.000 [1.000, 1.000], mean action: 0.459 [0.000, 1.000], mean observation: -0.107 [-0.726, 0.358], loss: 3.872151, mean_absolute_error: 9.796768, mean_q: 18.830168\n",
      " 4183/5000: episode: 164, duration: 0.382s, episode steps: 125, steps per second: 327, episode reward: 125.000, mean reward: 1.000 [1.000, 1.000], mean action: 0.512 [0.000, 1.000], mean observation: 0.157 [-0.433, 0.771], loss: 3.670639, mean_absolute_error: 9.917413, mean_q: 19.079998\n",
      " 4222/5000: episode: 165, duration: 0.105s, episode steps: 39, steps per second: 371, episode reward: 39.000, mean reward: 1.000 [1.000, 1.000], mean action: 0.462 [0.000, 1.000], mean observation: -0.113 [-0.602, 0.366], loss: 3.728718, mean_absolute_error: 10.053727, mean_q: 19.364145\n",
      " 4361/5000: episode: 166, duration: 0.433s, episode steps: 139, steps per second: 321, episode reward: 139.000, mean reward: 1.000 [1.000, 1.000], mean action: 0.511 [0.000, 1.000], mean observation: 0.098 [-0.632, 0.717], loss: 4.052057, mean_absolute_error: 10.224859, mean_q: 19.680822\n",
      " 4419/5000: episode: 167, duration: 0.158s, episode steps: 58, steps per second: 367, episode reward: 58.000, mean reward: 1.000 [1.000, 1.000], mean action: 0.466 [0.000, 1.000], mean observation: -0.095 [-0.714, 0.407], loss: 3.826450, mean_absolute_error: 10.328397, mean_q: 19.891455\n",
      " 4483/5000: episode: 168, duration: 0.223s, episode steps: 64, steps per second: 287, episode reward: 64.000, mean reward: 1.000 [1.000, 1.000], mean action: 0.469 [0.000, 1.000], mean observation: -0.106 [-0.680, 0.272], loss: 3.768250, mean_absolute_error: 10.434246, mean_q: 20.114182\n",
      " 4519/5000: episode: 169, duration: 0.108s, episode steps: 36, steps per second: 334, episode reward: 36.000, mean reward: 1.000 [1.000, 1.000], mean action: 0.472 [0.000, 1.000], mean observation: -0.123 [-1.078, 0.384], loss: 2.556670, mean_absolute_error: 10.435081, mean_q: 20.337479\n",
      " 4583/5000: episode: 170, duration: 0.161s, episode steps: 64, steps per second: 397, episode reward: 64.000, mean reward: 1.000 [1.000, 1.000], mean action: 0.469 [0.000, 1.000], mean observation: -0.099 [-0.701, 0.437], loss: 3.281054, mean_absolute_error: 10.564734, mean_q: 20.552685\n",
      " 4639/5000: episode: 171, duration: 0.180s, episode steps: 56, steps per second: 310, episode reward: 56.000, mean reward: 1.000 [1.000, 1.000], mean action: 0.464 [0.000, 1.000], mean observation: -0.122 [-0.777, 0.397], loss: 2.797823, mean_absolute_error: 10.605506, mean_q: 20.685717\n",
      " 4709/5000: episode: 172, duration: 0.182s, episode steps: 70, steps per second: 384, episode reward: 70.000, mean reward: 1.000 [1.000, 1.000], mean action: 0.471 [0.000, 1.000], mean observation: -0.076 [-0.686, 0.339], loss: 4.019822, mean_absolute_error: 10.794206, mean_q: 20.973978\n",
      " 4746/5000: episode: 173, duration: 0.097s, episode steps: 37, steps per second: 382, episode reward: 37.000, mean reward: 1.000 [1.000, 1.000], mean action: 0.459 [0.000, 1.000], mean observation: -0.131 [-0.781, 0.246], loss: 4.973462, mean_absolute_error: 10.801281, mean_q: 20.785061\n",
      " 4806/5000: episode: 174, duration: 0.166s, episode steps: 60, steps per second: 362, episode reward: 60.000, mean reward: 1.000 [1.000, 1.000], mean action: 0.467 [0.000, 1.000], mean observation: -0.095 [-0.947, 0.538], loss: 4.302139, mean_absolute_error: 10.847617, mean_q: 20.941317\n",
      " 4869/5000: episode: 175, duration: 0.386s, episode steps: 63, steps per second: 163, episode reward: 63.000, mean reward: 1.000 [1.000, 1.000], mean action: 0.460 [0.000, 1.000], mean observation: -0.097 [-0.877, 0.414], loss: 3.732486, mean_absolute_error: 10.947460, mean_q: 21.211691\n",
      " 4907/5000: episode: 176, duration: 0.114s, episode steps: 38, steps per second: 332, episode reward: 38.000, mean reward: 1.000 [1.000, 1.000], mean action: 0.447 [0.000, 1.000], mean observation: -0.150 [-0.743, 0.225], loss: 5.103598, mean_absolute_error: 11.061979, mean_q: 21.303431\n",
      " 4956/5000: episode: 177, duration: 0.253s, episode steps: 49, steps per second: 193, episode reward: 49.000, mean reward: 1.000 [1.000, 1.000], mean action: 0.449 [0.000, 1.000], mean observation: -0.137 [-0.892, 0.218], loss: 3.083749, mean_absolute_error: 10.999015, mean_q: 21.480680\n",
      "done, took 19.284 seconds\n"
     ]
    },
    {
     "data": {
      "text/plain": [
       "<keras.callbacks.History at 0x123065d30>"
      ]
     },
     "execution_count": 6,
     "metadata": {},
     "output_type": "execute_result"
    }
   ],
   "source": [
    "dqn.fit(env, nb_steps=5000, visualize=False, verbose=2)\n"
   ]
  },
  {
   "cell_type": "code",
   "execution_count": null,
   "metadata": {},
   "outputs": [
    {
     "name": "stdout",
     "output_type": "stream",
     "text": [
      "Testing for 5 episodes ...\n",
      "Episode 1: reward: 132.000, steps: 132\n",
      "Episode 2: reward: 51.000, steps: 51\n"
     ]
    }
   ],
   "source": [
    "dqn.test(env, nb_episodes=5, visualize=True)"
   ]
  }
 ],
 "metadata": {
  "kernelspec": {
   "display_name": "Python 3",
   "language": "python",
   "name": "python3"
  },
  "language_info": {
   "codemirror_mode": {
    "name": "ipython",
    "version": 3
   },
   "file_extension": ".py",
   "mimetype": "text/x-python",
   "name": "python",
   "nbconvert_exporter": "python",
   "pygments_lexer": "ipython3",
   "version": "3.6.6"
  }
 },
 "nbformat": 4,
 "nbformat_minor": 2
}
